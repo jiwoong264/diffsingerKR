{
 "cells": [
  {
   "cell_type": "code",
   "execution_count": 34,
   "id": "37fbd791",
   "metadata": {},
   "outputs": [],
   "source": [
    "import os\n",
    "os.environ['CUDA_VISIBLE_DEVICES'] = '0'\n",
    "# from Inference.Inference_Exp0005 import Inferencer\n",
    "import Inference\n",
    "import IPython.display as ipd"
   ]
  },
  {
   "cell_type": "code",
   "execution_count": 35,
   "id": "24f6221c",
   "metadata": {},
   "outputs": [
    {
     "name": "stdout",
     "output_type": "stream",
     "text": [
      "2025-08-19 05:52:31,955 (Inference:98) INFO: Checkpoint loaded at 13000 steps.\n"
     ]
    }
   ],
   "source": [
    "inferencer = Inference.Inferencer(\n",
    "    hp_path= 'Hyper_Parameters.yaml',\n",
    "    checkpoint_path= './results/Checkpoint/S_13000.pt',\n",
    "    batch_size= 1\n",
    "    )"
   ]
  },
  {
   "cell_type": "code",
   "execution_count": 36,
   "id": "a474f27f",
   "metadata": {},
   "outputs": [],
   "source": [
    "durations = [\n",
    "    [0.33,0.16,0.33,0.49,0.33,0.16,0.81,0.33,0.16,0.16,0.33,0.16,0.49,0.16,0.82,0.33,0.16,0.33,0.49,0.33,0.16,0.33,0.49,0.33,0.33,0.16,0.33,1.47,0.33,0.16,0.33,0.49,0.33,0.16,0.81,0.33,0.16,0.16,0.33,0.16,0.49,0.16,0.82,0.33,0.16,0.33,0.16,0.33,0.49,0.16,0.33,0.33,0.33,0.33,0.16,0.33,0.82],\n",
    "    [0.52,0.17,0.35,0.35,0.35,0.35,0.70,0.35,0.35,0.70,0.35,0.35,0.70,0.52,0.17,0.35,0.35,0.35,0.35,0.70,0.35,0.35,0.35,0.35,1.39,],\n",
    "    [0.53,0.52,0.50,0.57,0.58,0.46,0.48,0.50,0.37,0.13,0.43,0.21,0.57,0.43,0.49,1.44,0.26,0.49,0.14,0.13,0.57,0.26,0.06,0.15,0.63,0.26,0.51,0.20,0.48,0.72,0.22,],\n",
    "    ]\n",
    "lyrics = [\n",
    "    ['마','음','울','적','한','날','에','<X>','거','리','를','걸','어','보','고','향','기','로','운','칵','테','일','에','취','해','도','보','고','한','편','의','시','가','있','는','<X>','전','시','회','장','도','가','고','밤','새','도','<X>','록','그','리','움','에','편','질','쓰','고','파',],\n",
    "    ['떴','다','떴','다','비','행','기','날','아','라','날','아','라','높','이','높','이','날','아','라','우','리','비','행','기',],\n",
    "    ['만','나','고','<X>','난','외','로','움','을','<X>','알','았','어','내','겐','<X>','관','심','조','<X>','차','<X>','없','<X>','다','는','걸','<X>','알','면','서',]\n",
    "    ]\n",
    "notes = [\n",
    "    [80,80,80,87,85,84,82,0,84,84,84,85,84,79,79,77,77,77,80,80,78,77,75,77,80,79,80,82,80,80,80,87,85,84,82,0,84,84,84,85,84,79,79,77,77,77,79,80,80,77,75,75,77,80,79,82,80,],\n",
    "    [76,74,72,74,76,76,76,74,74,74,76,79,79,76,74,72,74,76,76,76,74,74,76,74,72,],\n",
    "    [76,78,79,0,71,74,72,71,72,0,71,69,69,71,74,0,79,78,79,0,71,0,74,0,74,72,72,0,71,71,69,]\n",
    "    ]\n",
    "singers = [\n",
    "    'AMS04',\n",
    "    'AMS04',\n",
    "    'AMS04'\n",
    "    ]\n",
    "genres = [\n",
    "    'Trot',\n",
    "    'Trot',\n",
    "    'Trot',\n",
    "    ]\n",
    "\n",
    "notes = [[(x - 10) if x != 0 else 0 for x in xx] for xx in notes]\n",
    "ddim_steps = 100"
   ]
  },
  {
   "cell_type": "code",
   "execution_count": 37,
   "id": "563787ee",
   "metadata": {
    "scrolled": true
   },
   "outputs": [
    {
     "ename": "UnicodeDecodeError",
     "evalue": "'ascii' codec can't decode byte 0xef in position 0: ordinal not in range(128)",
     "output_type": "error",
     "traceback": [
      "\u001b[0;31m---------------------------------------------------------------------------\u001b[0m",
      "\u001b[0;31mUnicodeDecodeError\u001b[0m                        Traceback (most recent call last)",
      "\u001b[1;32m/home/elicer/song/diffsingerKR/Inference.ipynb Cell 4\u001b[0m line \u001b[0;36m1\n\u001b[0;32m----> <a href='vscode-notebook-cell://qhfznnmyysgjrnha.tunnel.elice.io/home/elicer/song/diffsingerKR/Inference.ipynb#W3sdnNjb2RlLXJlbW90ZQ%3D%3D?line=0'>1</a>\u001b[0m audios \u001b[39m=\u001b[39m inferencer\u001b[39m.\u001b[39;49mInference_Epoch(\n\u001b[1;32m      <a href='vscode-notebook-cell://qhfznnmyysgjrnha.tunnel.elice.io/home/elicer/song/diffsingerKR/Inference.ipynb#W3sdnNjb2RlLXJlbW90ZQ%3D%3D?line=1'>2</a>\u001b[0m     message_times_list\u001b[39m=\u001b[39;49m durations,\n\u001b[1;32m      <a href='vscode-notebook-cell://qhfznnmyysgjrnha.tunnel.elice.io/home/elicer/song/diffsingerKR/Inference.ipynb#W3sdnNjb2RlLXJlbW90ZQ%3D%3D?line=2'>3</a>\u001b[0m     lyrics\u001b[39m=\u001b[39;49m lyrics,\n\u001b[1;32m      <a href='vscode-notebook-cell://qhfznnmyysgjrnha.tunnel.elice.io/home/elicer/song/diffsingerKR/Inference.ipynb#W3sdnNjb2RlLXJlbW90ZQ%3D%3D?line=3'>4</a>\u001b[0m     notes\u001b[39m=\u001b[39;49m notes,\n\u001b[1;32m      <a href='vscode-notebook-cell://qhfznnmyysgjrnha.tunnel.elice.io/home/elicer/song/diffsingerKR/Inference.ipynb#W3sdnNjb2RlLXJlbW90ZQ%3D%3D?line=4'>5</a>\u001b[0m     singers\u001b[39m=\u001b[39;49m singers,\n\u001b[1;32m      <a href='vscode-notebook-cell://qhfznnmyysgjrnha.tunnel.elice.io/home/elicer/song/diffsingerKR/Inference.ipynb#W3sdnNjb2RlLXJlbW90ZQ%3D%3D?line=5'>6</a>\u001b[0m     genres\u001b[39m=\u001b[39;49m genres,\n\u001b[1;32m      <a href='vscode-notebook-cell://qhfznnmyysgjrnha.tunnel.elice.io/home/elicer/song/diffsingerKR/Inference.ipynb#W3sdnNjb2RlLXJlbW90ZQ%3D%3D?line=6'>7</a>\u001b[0m     ddim_steps\u001b[39m=\u001b[39;49m ddim_steps\n\u001b[1;32m      <a href='vscode-notebook-cell://qhfznnmyysgjrnha.tunnel.elice.io/home/elicer/song/diffsingerKR/Inference.ipynb#W3sdnNjb2RlLXJlbW90ZQ%3D%3D?line=7'>8</a>\u001b[0m     )\n\u001b[1;32m     <a href='vscode-notebook-cell://qhfznnmyysgjrnha.tunnel.elice.io/home/elicer/song/diffsingerKR/Inference.ipynb#W3sdnNjb2RlLXJlbW90ZQ%3D%3D?line=9'>10</a>\u001b[0m \u001b[39mfor\u001b[39;00m lyric, singer, genre, audio \u001b[39min\u001b[39;00m \u001b[39mzip\u001b[39m(lyrics, singers, genres, audios):\n\u001b[1;32m     <a href='vscode-notebook-cell://qhfznnmyysgjrnha.tunnel.elice.io/home/elicer/song/diffsingerKR/Inference.ipynb#W3sdnNjb2RlLXJlbW90ZQ%3D%3D?line=10'>11</a>\u001b[0m     \u001b[39mprint\u001b[39m(\u001b[39m'\u001b[39m\u001b[39m'\u001b[39m\u001b[39m.\u001b[39mjoin(lyric)\u001b[39m.\u001b[39mreplace(\u001b[39m'\u001b[39m\u001b[39m<X>\u001b[39m\u001b[39m'\u001b[39m, \u001b[39m'\u001b[39m\u001b[39m \u001b[39m\u001b[39m'\u001b[39m))\n",
      "File \u001b[0;32m~/song/diffsingerKR/Inference.py:152\u001b[0m, in \u001b[0;36mInferencer.Inference_Epoch\u001b[0;34m(self, message_times_list, lyrics, notes, singers, genres, ddim_steps, use_tqdm)\u001b[0m\n\u001b[1;32m    151\u001b[0m \u001b[39mdef\u001b[39;00m\u001b[39m \u001b[39m\u001b[39mInference_Epoch\u001b[39m(\u001b[39mself\u001b[39m, message_times_list, lyrics, notes, singers, genres, ddim_steps, use_tqdm\u001b[39m=\u001b[39m \u001b[39mTrue\u001b[39;00m):\n\u001b[0;32m--> 152\u001b[0m     dataloader \u001b[39m=\u001b[39m \u001b[39mself\u001b[39;49m\u001b[39m.\u001b[39;49mDataset_Generate(\n\u001b[1;32m    153\u001b[0m         message_times_list\u001b[39m=\u001b[39;49m message_times_list,\n\u001b[1;32m    154\u001b[0m         lyrics\u001b[39m=\u001b[39;49m lyrics,\n\u001b[1;32m    155\u001b[0m         notes\u001b[39m=\u001b[39;49m notes,\n\u001b[1;32m    156\u001b[0m         singers\u001b[39m=\u001b[39;49m singers,\n\u001b[1;32m    157\u001b[0m         genres\u001b[39m=\u001b[39;49m genres\n\u001b[1;32m    158\u001b[0m         )\n\u001b[1;32m    159\u001b[0m     \u001b[39mif\u001b[39;00m use_tqdm:\n\u001b[1;32m    160\u001b[0m         dataloader \u001b[39m=\u001b[39m tqdm(\n\u001b[1;32m    161\u001b[0m             dataloader,\n\u001b[1;32m    162\u001b[0m             desc\u001b[39m=\u001b[39m\u001b[39m'\u001b[39m\u001b[39m[Inference]\u001b[39m\u001b[39m'\u001b[39m,\n\u001b[1;32m    163\u001b[0m             total\u001b[39m=\u001b[39m math\u001b[39m.\u001b[39mceil(\u001b[39mlen\u001b[39m(dataloader\u001b[39m.\u001b[39mdataset) \u001b[39m/\u001b[39m \u001b[39mself\u001b[39m\u001b[39m.\u001b[39mbatch_size)\n\u001b[1;32m    164\u001b[0m             )\n",
      "File \u001b[0;32m~/song/diffsingerKR/Inference.py:63\u001b[0m, in \u001b[0;36mInferencer.Dataset_Generate\u001b[0;34m(self, message_times_list, lyrics, notes, singers, genres)\u001b[0m\n\u001b[1;32m     62\u001b[0m \u001b[39mdef\u001b[39;00m\u001b[39m \u001b[39m\u001b[39mDataset_Generate\u001b[39m(\u001b[39mself\u001b[39m, message_times_list, lyrics, notes, singers, genres):\n\u001b[0;32m---> 63\u001b[0m     token_dict \u001b[39m=\u001b[39m yaml\u001b[39m.\u001b[39;49mload(\u001b[39mopen\u001b[39;49m(\u001b[39mself\u001b[39;49m\u001b[39m.\u001b[39;49mhp\u001b[39m.\u001b[39;49mToken_Path), Loader\u001b[39m=\u001b[39;49myaml\u001b[39m.\u001b[39;49mLoader)\n\u001b[1;32m     64\u001b[0m     singer_info_dict \u001b[39m=\u001b[39m yaml\u001b[39m.\u001b[39mload(\u001b[39mopen\u001b[39m(\u001b[39mself\u001b[39m\u001b[39m.\u001b[39mhp\u001b[39m.\u001b[39mSinger_Info_Path), Loader\u001b[39m=\u001b[39myaml\u001b[39m.\u001b[39mLoader)\n\u001b[1;32m     65\u001b[0m     genre_info_dict \u001b[39m=\u001b[39m yaml\u001b[39m.\u001b[39mload(\u001b[39mopen\u001b[39m(\u001b[39mself\u001b[39m\u001b[39m.\u001b[39mhp\u001b[39m.\u001b[39mGenre_Info_Path), Loader\u001b[39m=\u001b[39myaml\u001b[39m.\u001b[39mLoader)\n",
      "File \u001b[0;32m~/miniconda3/envs/song/lib/python3.9/site-packages/yaml/__init__.py:79\u001b[0m, in \u001b[0;36mload\u001b[0;34m(stream, Loader)\u001b[0m\n\u001b[1;32m     74\u001b[0m \u001b[39mdef\u001b[39;00m\u001b[39m \u001b[39m\u001b[39mload\u001b[39m(stream, Loader):\n\u001b[1;32m     75\u001b[0m \u001b[39m    \u001b[39m\u001b[39m\"\"\"\u001b[39;00m\n\u001b[1;32m     76\u001b[0m \u001b[39m    Parse the first YAML document in a stream\u001b[39;00m\n\u001b[1;32m     77\u001b[0m \u001b[39m    and produce the corresponding Python object.\u001b[39;00m\n\u001b[1;32m     78\u001b[0m \u001b[39m    \"\"\"\u001b[39;00m\n\u001b[0;32m---> 79\u001b[0m     loader \u001b[39m=\u001b[39m Loader(stream)\n\u001b[1;32m     80\u001b[0m     \u001b[39mtry\u001b[39;00m:\n\u001b[1;32m     81\u001b[0m         \u001b[39mreturn\u001b[39;00m loader\u001b[39m.\u001b[39mget_single_data()\n",
      "File \u001b[0;32m~/miniconda3/envs/song/lib/python3.9/site-packages/yaml/loader.py:44\u001b[0m, in \u001b[0;36mLoader.__init__\u001b[0;34m(self, stream)\u001b[0m\n\u001b[1;32m     43\u001b[0m \u001b[39mdef\u001b[39;00m\u001b[39m \u001b[39m\u001b[39m__init__\u001b[39m(\u001b[39mself\u001b[39m, stream):\n\u001b[0;32m---> 44\u001b[0m     Reader\u001b[39m.\u001b[39;49m\u001b[39m__init__\u001b[39;49m(\u001b[39mself\u001b[39;49m, stream)\n\u001b[1;32m     45\u001b[0m     Scanner\u001b[39m.\u001b[39m\u001b[39m__init__\u001b[39m(\u001b[39mself\u001b[39m)\n\u001b[1;32m     46\u001b[0m     Parser\u001b[39m.\u001b[39m\u001b[39m__init__\u001b[39m(\u001b[39mself\u001b[39m)\n",
      "File \u001b[0;32m~/miniconda3/envs/song/lib/python3.9/site-packages/yaml/reader.py:85\u001b[0m, in \u001b[0;36mReader.__init__\u001b[0;34m(self, stream)\u001b[0m\n\u001b[1;32m     83\u001b[0m \u001b[39mself\u001b[39m\u001b[39m.\u001b[39meof \u001b[39m=\u001b[39m \u001b[39mFalse\u001b[39;00m\n\u001b[1;32m     84\u001b[0m \u001b[39mself\u001b[39m\u001b[39m.\u001b[39mraw_buffer \u001b[39m=\u001b[39m \u001b[39mNone\u001b[39;00m\n\u001b[0;32m---> 85\u001b[0m \u001b[39mself\u001b[39;49m\u001b[39m.\u001b[39;49mdetermine_encoding()\n",
      "File \u001b[0;32m~/miniconda3/envs/song/lib/python3.9/site-packages/yaml/reader.py:124\u001b[0m, in \u001b[0;36mReader.determine_encoding\u001b[0;34m(self)\u001b[0m\n\u001b[1;32m    122\u001b[0m \u001b[39mdef\u001b[39;00m\u001b[39m \u001b[39m\u001b[39mdetermine_encoding\u001b[39m(\u001b[39mself\u001b[39m):\n\u001b[1;32m    123\u001b[0m     \u001b[39mwhile\u001b[39;00m \u001b[39mnot\u001b[39;00m \u001b[39mself\u001b[39m\u001b[39m.\u001b[39meof \u001b[39mand\u001b[39;00m (\u001b[39mself\u001b[39m\u001b[39m.\u001b[39mraw_buffer \u001b[39mis\u001b[39;00m \u001b[39mNone\u001b[39;00m \u001b[39mor\u001b[39;00m \u001b[39mlen\u001b[39m(\u001b[39mself\u001b[39m\u001b[39m.\u001b[39mraw_buffer) \u001b[39m<\u001b[39m \u001b[39m2\u001b[39m):\n\u001b[0;32m--> 124\u001b[0m         \u001b[39mself\u001b[39;49m\u001b[39m.\u001b[39;49mupdate_raw()\n\u001b[1;32m    125\u001b[0m     \u001b[39mif\u001b[39;00m \u001b[39misinstance\u001b[39m(\u001b[39mself\u001b[39m\u001b[39m.\u001b[39mraw_buffer, \u001b[39mbytes\u001b[39m):\n\u001b[1;32m    126\u001b[0m         \u001b[39mif\u001b[39;00m \u001b[39mself\u001b[39m\u001b[39m.\u001b[39mraw_buffer\u001b[39m.\u001b[39mstartswith(codecs\u001b[39m.\u001b[39mBOM_UTF16_LE):\n",
      "File \u001b[0;32m~/miniconda3/envs/song/lib/python3.9/site-packages/yaml/reader.py:178\u001b[0m, in \u001b[0;36mReader.update_raw\u001b[0;34m(self, size)\u001b[0m\n\u001b[1;32m    177\u001b[0m \u001b[39mdef\u001b[39;00m\u001b[39m \u001b[39m\u001b[39mupdate_raw\u001b[39m(\u001b[39mself\u001b[39m, size\u001b[39m=\u001b[39m\u001b[39m4096\u001b[39m):\n\u001b[0;32m--> 178\u001b[0m     data \u001b[39m=\u001b[39m \u001b[39mself\u001b[39;49m\u001b[39m.\u001b[39;49mstream\u001b[39m.\u001b[39;49mread(size)\n\u001b[1;32m    179\u001b[0m     \u001b[39mif\u001b[39;00m \u001b[39mself\u001b[39m\u001b[39m.\u001b[39mraw_buffer \u001b[39mis\u001b[39;00m \u001b[39mNone\u001b[39;00m:\n\u001b[1;32m    180\u001b[0m         \u001b[39mself\u001b[39m\u001b[39m.\u001b[39mraw_buffer \u001b[39m=\u001b[39m data\n",
      "File \u001b[0;32m~/miniconda3/envs/song/lib/python3.9/encodings/ascii.py:26\u001b[0m, in \u001b[0;36mIncrementalDecoder.decode\u001b[0;34m(self, input, final)\u001b[0m\n\u001b[1;32m     25\u001b[0m \u001b[39mdef\u001b[39;00m\u001b[39m \u001b[39m\u001b[39mdecode\u001b[39m(\u001b[39mself\u001b[39m, \u001b[39minput\u001b[39m, final\u001b[39m=\u001b[39m\u001b[39mFalse\u001b[39;00m):\n\u001b[0;32m---> 26\u001b[0m     \u001b[39mreturn\u001b[39;00m codecs\u001b[39m.\u001b[39;49mascii_decode(\u001b[39minput\u001b[39;49m, \u001b[39mself\u001b[39;49m\u001b[39m.\u001b[39;49merrors)[\u001b[39m0\u001b[39m]\n",
      "\u001b[0;31mUnicodeDecodeError\u001b[0m: 'ascii' codec can't decode byte 0xef in position 0: ordinal not in range(128)"
     ]
    }
   ],
   "source": [
    "audios = inferencer.Inference_Epoch(\n",
    "    message_times_list= durations,\n",
    "    lyrics= lyrics,\n",
    "    notes= notes,\n",
    "    singers= singers,\n",
    "    genres= genres,\n",
    "    ddim_steps= ddim_steps\n",
    "    )\n",
    "\n",
    "for lyric, singer, genre, audio in zip(lyrics, singers, genres, audios):\n",
    "    print(''.join(lyric).replace('<X>', ' '))\n",
    "    print(singer)\n",
    "    print(genre)\n",
    "    ipd.display(ipd.Audio(audio, rate= inferencer.hp.Sound.Sample_Rate))\n",
    "    print()"
   ]
  }
 ],
 "metadata": {
  "kernelspec": {
   "display_name": "song",
   "language": "python",
   "name": "python3"
  },
  "language_info": {
   "codemirror_mode": {
    "name": "ipython",
    "version": 3
   },
   "file_extension": ".py",
   "mimetype": "text/x-python",
   "name": "python",
   "nbconvert_exporter": "python",
   "pygments_lexer": "ipython3",
   "version": "3.9.23"
  }
 },
 "nbformat": 4,
 "nbformat_minor": 5
}
